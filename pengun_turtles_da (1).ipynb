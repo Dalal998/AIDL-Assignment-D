{
  "nbformat": 4,
  "nbformat_minor": 0,
  "metadata": {
    "colab": {
      "provenance": []
    },
    "kernelspec": {
      "name": "python3",
      "display_name": "Python 3"
    },
    "language_info": {
      "name": "python"
    }
  },
  "cells": [
    {
      "cell_type": "code",
      "execution_count": 8,
      "metadata": {
        "colab": {
          "base_uri": "https://localhost:8080/"
        },
        "id": "a5s-qdpQdIul",
        "outputId": "4e5e62b2-2531-49f9-d8ea-09cf5f30f1c1"
      },
      "outputs": [
        {
          "output_type": "stream",
          "name": "stdout",
          "text": [
            "Mounted at /content/drive\n"
          ]
        }
      ],
      "source": [
        "from google.colab import drive\n",
        "drive.mount('/content/drive', force_remount=True)"
      ]
    },
    {
      "cell_type": "code",
      "source": [
        "train_dir = '/content/drive/MyDrive/train '\n",
        "test_dir = '/content/drive/MyDrive/test'"
      ],
      "metadata": {
        "id": "xqQJ2NB0d30U"
      },
      "execution_count": 9,
      "outputs": []
    },
    {
      "cell_type": "code",
      "source": [
        "import os\n",
        "print(len(os.listdir('/content/drive/MyDrive/train /penguins')))\n",
        "print(len(os.listdir('/content/drive/MyDrive/train /turtles')))\n",
        "print(len(os.listdir('/content/drive/MyDrive/test/penguins')))\n",
        "print(len(os.listdir('/content/drive/MyDrive/test/turtles')))"
      ],
      "metadata": {
        "colab": {
          "base_uri": "https://localhost:8080/"
        },
        "id": "vg0uccUzeI2n",
        "outputId": "2842516e-4879-440e-fd79-9f0e3a3b510c"
      },
      "execution_count": 10,
      "outputs": [
        {
          "output_type": "stream",
          "name": "stdout",
          "text": [
            "550\n",
            "557\n",
            "200\n",
            "200\n"
          ]
        }
      ]
    },
    {
      "cell_type": "code",
      "source": [
        "import tensorflow as tf\n",
        "from tensorflow.keras.preprocessing.image import ImageDataGenerator\n",
        "\n",
        "train_datagen = ImageDataGenerator(\n",
        "    rescale=1./255,\n",
        "    validation_split=0.2\n",
        ")\n",
        "train_data = train_datagen.flow_from_directory(\n",
        "    train_dir,\n",
        "    target_size=(256,256),\n",
        "    batch_size=32,\n",
        "    class_mode='binary',\n",
        "    subset='training'\n",
        ")\n",
        "\n",
        "validation_datagen = ImageDataGenerator(\n",
        "    rescale=1./255,\n",
        "    validation_split=0.2\n",
        ")\n",
        "\n",
        "validation_data = validation_datagen.flow_from_directory(\n",
        "    train_dir,\n",
        "    target_size=(256,256),\n",
        "    batch_size=32,\n",
        "    class_mode='binary',\n",
        "    subset='validation'\n",
        ")"
      ],
      "metadata": {
        "colab": {
          "base_uri": "https://localhost:8080/"
        },
        "id": "RECYM-sJfFE5",
        "outputId": "f61b695b-0755-4cfb-bdc7-d34e8bd6c605"
      },
      "execution_count": 11,
      "outputs": [
        {
          "output_type": "stream",
          "name": "stdout",
          "text": [
            "Found 886 images belonging to 2 classes.\n",
            "Found 221 images belonging to 2 classes.\n"
          ]
        }
      ]
    },
    {
      "cell_type": "code",
      "source": [
        "from tensorflow import keras\n",
        "from keras import Sequential\n",
        "from keras.layers import Dense,Conv2D,MaxPooling2D,Flatten,BatchNormalization,UpSampling2D, Dropout"
      ],
      "metadata": {
        "id": "aDVVYIarhdnK"
      },
      "execution_count": 12,
      "outputs": []
    },
    {
      "cell_type": "code",
      "source": [
        "model = Sequential()\n",
        "model.add(Conv2D(32,kernel_size=(3,3),padding='valid',activation='relu',input_shape=(256,256,3)))\n",
        "model.add(MaxPooling2D(pool_size=(2,2),strides=2,padding='valid'))\n",
        "\n",
        "model.add(Conv2D(64,kernel_size=(3,3),padding='valid',activation='relu'))\n",
        "model.add(MaxPooling2D(pool_size=(2,2),strides=2,padding='valid'))\n",
        "\n",
        "model.add(Conv2D(128,kernel_size=(3,3),padding='valid',activation='relu'))\n",
        "model.add(MaxPooling2D(pool_size=(2,2),strides=2,padding='valid'))\n",
        "\n",
        "model.add(Flatten())\n",
        "\n",
        "model.add(Dense(128,activation='relu'))\n",
        "model.add(Dense(64,activation='relu'))\n",
        "model.add(Dense(1,activation='sigmoid'))"
      ],
      "metadata": {
        "id": "KGw1lAAmiQ93"
      },
      "execution_count": 13,
      "outputs": []
    },
    {
      "cell_type": "code",
      "source": [
        "from keras.optimizers import Adam\n",
        "model.compile(optimizer=Adam(learning_rate=0.001),loss='binary_crossentropy',metrics=['accuracy'])"
      ],
      "metadata": {
        "id": "KaXX4C4BlN_U"
      },
      "execution_count": 14,
      "outputs": []
    },
    {
      "cell_type": "code",
      "source": [
        "history = model.fit(train_data, epochs=30, validation_data=validation_data)"
      ],
      "metadata": {
        "colab": {
          "base_uri": "https://localhost:8080/"
        },
        "id": "fdXKIPjal171",
        "outputId": "a7009e55-bd34-4f8c-b616-b9a454d309a1"
      },
      "execution_count": 15,
      "outputs": [
        {
          "output_type": "stream",
          "name": "stdout",
          "text": [
            "Epoch 1/30\n",
            "28/28 [==============================] - 340s 12s/step - loss: 0.8713 - accuracy: 0.6016 - val_loss: 0.5770 - val_accuracy: 0.7014\n",
            "Epoch 2/30\n",
            "28/28 [==============================] - 219s 8s/step - loss: 0.4898 - accuracy: 0.7822 - val_loss: 0.4622 - val_accuracy: 0.7783\n",
            "Epoch 3/30\n",
            "28/28 [==============================] - 230s 8s/step - loss: 0.3434 - accuracy: 0.8612 - val_loss: 0.4228 - val_accuracy: 0.8326\n",
            "Epoch 4/30\n",
            "28/28 [==============================] - 224s 8s/step - loss: 0.2836 - accuracy: 0.8871 - val_loss: 0.4550 - val_accuracy: 0.8462\n",
            "Epoch 5/30\n",
            "28/28 [==============================] - 230s 8s/step - loss: 0.1790 - accuracy: 0.9357 - val_loss: 0.4822 - val_accuracy: 0.8462\n",
            "Epoch 6/30\n",
            "28/28 [==============================] - 221s 8s/step - loss: 0.1518 - accuracy: 0.9424 - val_loss: 0.4846 - val_accuracy: 0.8054\n",
            "Epoch 7/30\n",
            "28/28 [==============================] - 249s 9s/step - loss: 0.0783 - accuracy: 0.9763 - val_loss: 0.9264 - val_accuracy: 0.8145\n",
            "Epoch 8/30\n",
            "28/28 [==============================] - 228s 8s/step - loss: 0.0433 - accuracy: 0.9853 - val_loss: 0.7722 - val_accuracy: 0.8190\n",
            "Epoch 9/30\n",
            "28/28 [==============================] - 250s 9s/step - loss: 0.1034 - accuracy: 0.9707 - val_loss: 0.8775 - val_accuracy: 0.7647\n",
            "Epoch 10/30\n",
            "28/28 [==============================] - 224s 8s/step - loss: 0.0900 - accuracy: 0.9684 - val_loss: 0.9454 - val_accuracy: 0.7738\n",
            "Epoch 11/30\n",
            "28/28 [==============================] - 247s 9s/step - loss: 0.0726 - accuracy: 0.9740 - val_loss: 1.0280 - val_accuracy: 0.7873\n",
            "Epoch 12/30\n",
            "28/28 [==============================] - 215s 8s/step - loss: 0.0401 - accuracy: 0.9853 - val_loss: 1.0688 - val_accuracy: 0.7964\n",
            "Epoch 13/30\n",
            "28/28 [==============================] - 223s 8s/step - loss: 0.0085 - accuracy: 1.0000 - val_loss: 1.3448 - val_accuracy: 0.8190\n",
            "Epoch 14/30\n",
            "28/28 [==============================] - 217s 8s/step - loss: 0.0041 - accuracy: 1.0000 - val_loss: 1.3412 - val_accuracy: 0.8190\n",
            "Epoch 15/30\n",
            "28/28 [==============================] - 218s 8s/step - loss: 0.0027 - accuracy: 1.0000 - val_loss: 1.4307 - val_accuracy: 0.8281\n",
            "Epoch 16/30\n",
            "28/28 [==============================] - 229s 8s/step - loss: 9.6625e-04 - accuracy: 1.0000 - val_loss: 1.5450 - val_accuracy: 0.8281\n",
            "Epoch 17/30\n",
            "28/28 [==============================] - 215s 8s/step - loss: 5.6619e-04 - accuracy: 1.0000 - val_loss: 1.5804 - val_accuracy: 0.8326\n",
            "Epoch 18/30\n",
            "28/28 [==============================] - 224s 8s/step - loss: 4.2333e-04 - accuracy: 1.0000 - val_loss: 1.6517 - val_accuracy: 0.8235\n",
            "Epoch 19/30\n",
            "28/28 [==============================] - 222s 8s/step - loss: 3.2176e-04 - accuracy: 1.0000 - val_loss: 1.6729 - val_accuracy: 0.8326\n",
            "Epoch 20/30\n",
            "28/28 [==============================] - 217s 8s/step - loss: 2.6161e-04 - accuracy: 1.0000 - val_loss: 1.7148 - val_accuracy: 0.8235\n",
            "Epoch 21/30\n",
            "28/28 [==============================] - 224s 8s/step - loss: 2.2113e-04 - accuracy: 1.0000 - val_loss: 1.7336 - val_accuracy: 0.8371\n",
            "Epoch 22/30\n",
            "28/28 [==============================] - 246s 9s/step - loss: 1.9612e-04 - accuracy: 1.0000 - val_loss: 1.7698 - val_accuracy: 0.8190\n",
            "Epoch 23/30\n",
            "28/28 [==============================] - 221s 8s/step - loss: 1.6307e-04 - accuracy: 1.0000 - val_loss: 1.7765 - val_accuracy: 0.8326\n",
            "Epoch 24/30\n",
            "28/28 [==============================] - 229s 8s/step - loss: 1.4684e-04 - accuracy: 1.0000 - val_loss: 1.8105 - val_accuracy: 0.8235\n",
            "Epoch 25/30\n",
            "28/28 [==============================] - 250s 9s/step - loss: 1.2451e-04 - accuracy: 1.0000 - val_loss: 1.8384 - val_accuracy: 0.8190\n",
            "Epoch 26/30\n",
            "28/28 [==============================] - 220s 8s/step - loss: 1.1380e-04 - accuracy: 1.0000 - val_loss: 1.8523 - val_accuracy: 0.8190\n",
            "Epoch 27/30\n",
            "28/28 [==============================] - 224s 8s/step - loss: 1.0089e-04 - accuracy: 1.0000 - val_loss: 1.8664 - val_accuracy: 0.8190\n",
            "Epoch 28/30\n",
            "28/28 [==============================] - 216s 8s/step - loss: 9.0771e-05 - accuracy: 1.0000 - val_loss: 1.8939 - val_accuracy: 0.8145\n",
            "Epoch 29/30\n",
            "28/28 [==============================] - 224s 8s/step - loss: 8.3225e-05 - accuracy: 1.0000 - val_loss: 1.9037 - val_accuracy: 0.8190\n",
            "Epoch 30/30\n",
            "28/28 [==============================] - 216s 8s/step - loss: 7.5931e-05 - accuracy: 1.0000 - val_loss: 1.9127 - val_accuracy: 0.8235\n"
          ]
        }
      ]
    },
    {
      "cell_type": "code",
      "source": [
        "import matplotlib.pyplot as plt\n",
        "\n",
        "plt.plot(history.history['accuracy'],color='red',label='train')\n",
        "plt.plot(history.history['val_accuracy'],color='blue',label='validation')\n",
        "plt.legend()\n",
        "plt.show()"
      ],
      "metadata": {
        "colab": {
          "base_uri": "https://localhost:8080/",
          "height": 430
        },
        "id": "oZqWBfwhE8Oj",
        "outputId": "e9b9c5fe-6259-4b2b-9ba3-1543bca957f8"
      },
      "execution_count": 16,
      "outputs": [
        {
          "output_type": "display_data",
          "data": {
            "text/plain": [
              "<Figure size 640x480 with 1 Axes>"
            ],
            "image/png": "[encoded data removed]"
          },
          "metadata": {}
        }
      ]
    },
    {
      "cell_type": "code",
      "source": [
        "plt.plot(history.history['loss'],color='red',label='train')\n",
        "plt.plot(history.history['val_loss'],color='blue',label='validation')\n",
        "plt.legend()\n",
        "plt.show()"
      ],
      "metadata": {
        "colab": {
          "base_uri": "https://localhost:8080/",
          "height": 434
        },
        "id": "LMXDauaoGynR",
        "outputId": "29b9696f-3ab1-4e70-a2fc-d78ccaa7af77"
      },
      "execution_count": 17,
      "outputs": [
        {
          "output_type": "display_data",
          "data": {
            "text/plain": [
              "<Figure size 640x480 with 1 Axes>"
            ],
            "image/png": "[encoded data removed]"
          },
          "metadata": {}
        }
      ]
    },
    {
      "cell_type": "code",
      "source": [
        "test_datagen = ImageDataGenerator(rescale=1./255)\n",
        "test_data = test_datagen.flow_from_directory(\n",
        "    test_dir,\n",
        "    target_size=(256,256),\n",
        "    batch_size=32,\n",
        "    class_mode='binary'\n",
        "\n",
        ")"
      ],
      "metadata": {
        "colab": {
          "base_uri": "https://localhost:8080/"
        },
        "id": "UcZ1fjULHW3V",
        "outputId": "aaa7238a-56d8-497f-fd0a-c43676673ca4"
      },
      "execution_count": 18,
      "outputs": [
        {
          "output_type": "stream",
          "name": "stdout",
          "text": [
            "Found 399 images belonging to 2 classes.\n"
          ]
        }
      ]
    },
    {
      "cell_type": "code",
      "source": [
        "predictions = model.predict(test_data)\n",
        "print(predictions)"
      ],
      "metadata": {
        "colab": {
          "base_uri": "https://localhost:8080/"
        },
        "id": "as4yfA45IFbb",
        "outputId": "5a651831-fe1b-4e94-8a83-4e6eb0a8f4ed"
      },
      "execution_count": 19,
      "outputs": [
        {
          "output_type": "stream",
          "name": "stdout",
          "text": [
            "13/13 [==============================] - 94s 7s/step\n",
            "[[7.71682154e-17]\n",
            " [1.08527097e-10]\n",
            " [2.79664683e-08]\n",
            " [1.00000000e+00]\n",
            " [9.91840005e-01]\n",
            " [3.08779044e-13]\n",
            " [9.99960899e-01]\n",
            " [1.61820356e-06]\n",
            " [1.63179159e-09]\n",
            " [1.80420318e-10]\n",
            " [1.72454941e-06]\n",
            " [4.36670271e-05]\n",
            " [2.79729487e-03]\n",
            " [1.00000000e+00]\n",
            " [1.00000000e+00]\n",
            " [9.99997616e-01]\n",
            " [9.99874413e-01]\n",
            " [7.30487404e-09]\n",
            " [1.00000000e+00]\n",
            " [3.04382013e-07]\n",
            " [9.99991179e-01]\n",
            " [9.87764835e-01]\n",
            " [9.99828637e-01]\n",
            " [1.21541317e-14]\n",
            " [9.99467909e-01]\n",
            " [9.01067155e-12]\n",
            " [3.98748282e-14]\n",
            " [9.87443686e-01]\n",
            " [1.00000000e+00]\n",
            " [6.25063421e-06]\n",
            " [1.00000000e+00]\n",
            " [9.99998450e-01]\n",
            " [1.00000000e+00]\n",
            " [9.99320149e-01]\n",
            " [1.00000000e+00]\n",
            " [9.99997973e-01]\n",
            " [1.00000000e+00]\n",
            " [9.94871977e-14]\n",
            " [3.83596510e-01]\n",
            " [5.64198315e-01]\n",
            " [5.39943485e-08]\n",
            " [4.53112096e-01]\n",
            " [9.99999821e-01]\n",
            " [9.84775901e-01]\n",
            " [3.22647870e-01]\n",
            " [1.00000000e+00]\n",
            " [9.99997616e-01]\n",
            " [9.99997556e-01]\n",
            " [1.00000000e+00]\n",
            " [9.99992192e-01]\n",
            " [1.00000000e+00]\n",
            " [9.99934018e-01]\n",
            " [1.47209133e-12]\n",
            " [4.84426077e-27]\n",
            " [8.15478654e-17]\n",
            " [1.29697754e-11]\n",
            " [7.30382511e-03]\n",
            " [8.59748252e-05]\n",
            " [2.54232607e-10]\n",
            " [3.95902590e-14]\n",
            " [1.11003311e-10]\n",
            " [1.42191530e-08]\n",
            " [1.00000000e+00]\n",
            " [9.96208727e-01]\n",
            " [9.99943078e-01]\n",
            " [9.99951780e-01]\n",
            " [2.61992409e-06]\n",
            " [1.55630424e-08]\n",
            " [1.00000000e+00]\n",
            " [7.04983473e-01]\n",
            " [9.87156212e-01]\n",
            " [9.99964893e-01]\n",
            " [4.84136990e-06]\n",
            " [9.11385432e-05]\n",
            " [9.97150779e-01]\n",
            " [8.12148543e-11]\n",
            " [9.99931037e-01]\n",
            " [2.59973792e-10]\n",
            " [9.99440610e-01]\n",
            " [9.99159157e-01]\n",
            " [9.65859435e-05]\n",
            " [8.30802441e-15]\n",
            " [1.00000000e+00]\n",
            " [1.64954901e-01]\n",
            " [1.00000000e+00]\n",
            " [9.98637319e-01]\n",
            " [8.51946235e-01]\n",
            " [9.89642203e-01]\n",
            " [9.62126136e-01]\n",
            " [9.86428022e-01]\n",
            " [3.07735689e-07]\n",
            " [1.00000000e+00]\n",
            " [1.00000000e+00]\n",
            " [9.99959469e-01]\n",
            " [3.41291040e-01]\n",
            " [1.00000000e+00]\n",
            " [9.99949336e-01]\n",
            " [9.99978721e-01]\n",
            " [9.99994576e-01]\n",
            " [1.00000000e+00]\n",
            " [9.74333704e-01]\n",
            " [7.20579283e-06]\n",
            " [9.93609667e-01]\n",
            " [2.88961633e-06]\n",
            " [9.31673516e-10]\n",
            " [5.58580682e-10]\n",
            " [2.99986050e-06]\n",
            " [2.06589088e-01]\n",
            " [1.47612533e-04]\n",
            " [8.14867139e-01]\n",
            " [9.99202907e-01]\n",
            " [9.99999821e-01]\n",
            " [9.99999583e-01]\n",
            " [5.11101952e-08]\n",
            " [1.00000000e+00]\n",
            " [9.58616793e-01]\n",
            " [1.56713466e-12]\n",
            " [8.94489408e-01]\n",
            " [1.61719151e-06]\n",
            " [1.32146169e-14]\n",
            " [1.04779976e-10]\n",
            " [5.17851352e-11]\n",
            " [3.54985907e-09]\n",
            " [9.99824405e-01]\n",
            " [9.99540389e-01]\n",
            " [8.98517016e-03]\n",
            " [4.66846956e-07]\n",
            " [9.99999106e-01]\n",
            " [2.03295352e-19]\n",
            " [4.41178514e-07]\n",
            " [9.99314547e-01]\n",
            " [7.35471898e-04]\n",
            " [1.13613451e-05]\n",
            " [9.97512043e-01]\n",
            " [2.56189633e-05]\n",
            " [3.67906978e-07]\n",
            " [9.89469588e-01]\n",
            " [1.00000000e+00]\n",
            " [1.00000000e+00]\n",
            " [4.27645963e-14]\n",
            " [7.88126942e-12]\n",
            " [9.99989927e-01]\n",
            " [3.70212661e-06]\n",
            " [9.99991894e-01]\n",
            " [9.48152065e-01]\n",
            " [1.00000000e+00]\n",
            " [4.06811565e-01]\n",
            " [3.67583880e-10]\n",
            " [3.55759263e-02]\n",
            " [1.00000000e+00]\n",
            " [9.99633670e-01]\n",
            " [6.09530583e-02]\n",
            " [1.06611005e-05]\n",
            " [9.99998510e-01]\n",
            " [9.80825722e-01]\n",
            " [6.87345125e-10]\n",
            " [2.14966456e-12]\n",
            " [9.80734348e-01]\n",
            " [9.99999166e-01]\n",
            " [9.99999583e-01]\n",
            " [1.04952515e-19]\n",
            " [1.03564828e-13]\n",
            " [9.99946833e-01]\n",
            " [9.99655902e-01]\n",
            " [5.80727972e-17]\n",
            " [9.85443771e-01]\n",
            " [1.00000000e+00]\n",
            " [1.00000000e+00]\n",
            " [9.96530116e-01]\n",
            " [9.99999940e-01]\n",
            " [1.05388768e-04]\n",
            " [1.00000000e+00]\n",
            " [9.99087453e-01]\n",
            " [1.72835559e-08]\n",
            " [1.38412065e-06]\n",
            " [9.99992251e-01]\n",
            " [7.77583401e-13]\n",
            " [5.86679847e-13]\n",
            " [1.00000000e+00]\n",
            " [9.98195648e-01]\n",
            " [1.00000000e+00]\n",
            " [9.99999821e-01]\n",
            " [2.67678111e-12]\n",
            " [9.49287569e-05]\n",
            " [2.18005712e-21]\n",
            " [9.99596119e-01]\n",
            " [1.00000000e+00]\n",
            " [9.99978900e-01]\n",
            " [1.00000000e+00]\n",
            " [9.47058879e-07]\n",
            " [1.21388769e-06]\n",
            " [9.99999940e-01]\n",
            " [9.99988735e-01]\n",
            " [9.90496874e-01]\n",
            " [6.63534939e-01]\n",
            " [9.97703373e-01]\n",
            " [1.98177723e-08]\n",
            " [1.50497375e-11]\n",
            " [9.99948263e-01]\n",
            " [1.00000000e+00]\n",
            " [1.00000000e+00]\n",
            " [1.00000000e+00]\n",
            " [8.14867139e-01]\n",
            " [1.35557764e-19]\n",
            " [1.76405825e-03]\n",
            " [1.00000000e+00]\n",
            " [1.08343956e-08]\n",
            " [9.98520613e-01]\n",
            " [1.00000000e+00]\n",
            " [9.65641975e-01]\n",
            " [9.99998152e-01]\n",
            " [9.92296875e-01]\n",
            " [5.50562417e-12]\n",
            " [9.99978065e-01]\n",
            " [6.47303267e-16]\n",
            " [9.99999464e-01]\n",
            " [6.37150183e-02]\n",
            " [1.43584266e-05]\n",
            " [9.99805212e-01]\n",
            " [6.18455233e-03]\n",
            " [9.99636173e-01]\n",
            " [1.00000000e+00]\n",
            " [9.99999583e-01]\n",
            " [9.99991179e-01]\n",
            " [5.61964484e-08]\n",
            " [1.00000000e+00]\n",
            " [1.13407942e-03]\n",
            " [3.66012931e-01]\n",
            " [4.52075183e-01]\n",
            " [9.99999583e-01]\n",
            " [1.00000000e+00]\n",
            " [1.21955140e-10]\n",
            " [9.99998927e-01]\n",
            " [3.18857990e-02]\n",
            " [5.31524798e-08]\n",
            " [2.46717900e-06]\n",
            " [1.00000000e+00]\n",
            " [7.59242356e-01]\n",
            " [8.10848885e-21]\n",
            " [5.33945582e-14]\n",
            " [4.55592968e-08]\n",
            " [1.00000000e+00]\n",
            " [2.31138930e-01]\n",
            " [1.47163240e-10]\n",
            " [9.99995887e-01]\n",
            " [9.99497414e-01]\n",
            " [9.99999881e-01]\n",
            " [4.79806275e-08]\n",
            " [1.15879719e-19]\n",
            " [9.99999821e-01]\n",
            " [2.17236541e-02]\n",
            " [8.94367132e-12]\n",
            " [1.66321755e-07]\n",
            " [1.43882215e-01]\n",
            " [3.09560210e-01]\n",
            " [1.00000000e+00]\n",
            " [1.00000000e+00]\n",
            " [5.02544256e-11]\n",
            " [1.00000000e+00]\n",
            " [9.25272763e-01]\n",
            " [9.99996543e-01]\n",
            " [3.80615026e-01]\n",
            " [3.74585640e-26]\n",
            " [1.00000000e+00]\n",
            " [6.27324043e-04]\n",
            " [3.85056669e-03]\n",
            " [1.00000000e+00]\n",
            " [9.99986291e-01]\n",
            " [1.10940981e-08]\n",
            " [1.27221734e-04]\n",
            " [9.96817887e-01]\n",
            " [1.00000000e+00]\n",
            " [1.00000000e+00]\n",
            " [9.94725525e-01]\n",
            " [9.90354061e-01]\n",
            " [1.19887162e-12]\n",
            " [2.23711203e-03]\n",
            " [1.00000000e+00]\n",
            " [3.97608027e-08]\n",
            " [1.27896019e-16]\n",
            " [1.72242179e-12]\n",
            " [1.97110295e-01]\n",
            " [6.94031776e-11]\n",
            " [9.98714864e-01]\n",
            " [1.69824705e-01]\n",
            " [2.57323087e-14]\n",
            " [3.53494659e-13]\n",
            " [2.05994710e-01]\n",
            " [1.75478887e-09]\n",
            " [2.47627075e-11]\n",
            " [3.79222912e-12]\n",
            " [9.99999583e-01]\n",
            " [1.00000000e+00]\n",
            " [9.99712050e-01]\n",
            " [9.98641551e-01]\n",
            " [2.88384445e-02]\n",
            " [9.99995768e-01]\n",
            " [6.13720796e-10]\n",
            " [2.25732904e-15]\n",
            " [9.99988973e-01]\n",
            " [1.00000000e+00]\n",
            " [1.00000000e+00]\n",
            " [1.67688560e-02]\n",
            " [1.33237551e-13]\n",
            " [5.84454358e-01]\n",
            " [1.00000000e+00]\n",
            " [1.00000000e+00]\n",
            " [2.30577484e-07]\n",
            " [9.99998510e-01]\n",
            " [3.31314310e-04]\n",
            " [4.56530273e-07]\n",
            " [1.94921770e-13]\n",
            " [9.99991894e-01]\n",
            " [7.31984187e-07]\n",
            " [1.67124146e-08]\n",
            " [1.00000000e+00]\n",
            " [1.79902850e-06]\n",
            " [9.99959469e-01]\n",
            " [1.00000000e+00]\n",
            " [3.47405314e-01]\n",
            " [5.36880332e-11]\n",
            " [3.68498899e-02]\n",
            " [1.00000000e+00]\n",
            " [7.67396657e-16]\n",
            " [1.19176235e-13]\n",
            " [4.62358568e-10]\n",
            " [9.99997437e-01]\n",
            " [1.00000000e+00]\n",
            " [1.00000000e+00]\n",
            " [9.94572282e-01]\n",
            " [1.00000000e+00]\n",
            " [9.99964535e-01]\n",
            " [1.16405736e-17]\n",
            " [1.81755940e-14]\n",
            " [2.07044870e-09]\n",
            " [9.99999821e-01]\n",
            " [1.31333763e-11]\n",
            " [1.00000000e+00]\n",
            " [9.97399271e-01]\n",
            " [1.91279215e-10]\n",
            " [1.15562636e-10]\n",
            " [9.99976039e-01]\n",
            " [8.90258525e-06]\n",
            " [6.63641320e-09]\n",
            " [9.99989092e-01]\n",
            " [8.27897475e-06]\n",
            " [1.03477500e-02]\n",
            " [9.99018729e-01]\n",
            " [8.11742866e-05]\n",
            " [9.75827277e-01]\n",
            " [1.00000000e+00]\n",
            " [9.70590532e-01]\n",
            " [3.75556830e-09]\n",
            " [9.99632299e-01]\n",
            " [7.93896168e-02]\n",
            " [9.99603689e-01]\n",
            " [1.24203865e-07]\n",
            " [1.00000000e+00]\n",
            " [1.00000000e+00]\n",
            " [9.99999106e-01]\n",
            " [2.61609171e-06]\n",
            " [8.32083288e-07]\n",
            " [1.00000000e+00]\n",
            " [5.33214864e-14]\n",
            " [1.00000000e+00]\n",
            " [8.45425241e-09]\n",
            " [8.52199793e-01]\n",
            " [9.99981821e-01]\n",
            " [1.37927658e-09]\n",
            " [9.93237495e-01]\n",
            " [5.75765252e-01]\n",
            " [4.35329927e-03]\n",
            " [9.98152375e-01]\n",
            " [8.61538729e-10]\n",
            " [6.60215136e-08]\n",
            " [6.53131162e-19]\n",
            " [9.98309493e-01]\n",
            " [1.00000000e+00]\n",
            " [1.32906842e-13]\n",
            " [3.93904747e-06]\n",
            " [9.17118788e-01]\n",
            " [1.00000000e+00]\n",
            " [2.57004951e-09]\n",
            " [8.87546186e-19]\n",
            " [1.00000000e+00]\n",
            " [9.57991362e-01]\n",
            " [6.28195286e-01]\n",
            " [2.17197696e-04]\n",
            " [4.59855130e-07]\n",
            " [9.99976218e-01]\n",
            " [9.99997914e-01]\n",
            " [5.50679158e-15]\n",
            " [1.00000000e+00]\n",
            " [9.28745031e-01]\n",
            " [9.99999404e-01]\n",
            " [3.89949945e-21]\n",
            " [8.19561433e-12]\n",
            " [9.35438693e-01]\n",
            " [1.53873970e-07]]\n"
          ]
        }
      ]
    },
    {
      "cell_type": "code",
      "source": [
        "len(predictions)"
      ],
      "metadata": {
        "colab": {
          "base_uri": "https://localhost:8080/"
        },
        "id": "367b9eJoJDwU",
        "outputId": "63eb16fd-02a8-4b24-935d-17c8ae4b3c74"
      },
      "execution_count": 20,
      "outputs": [
        {
          "output_type": "execute_result",
          "data": {
            "text/plain": [
              "399"
            ]
          },
          "metadata": {},
          "execution_count": 20
        }
      ]
    },
    {
      "cell_type": "code",
      "source": [
        "from sklearn.metrics import confusion_matrix, classification_report"
      ],
      "metadata": {
        "id": "628eFv2IJJrE"
      },
      "execution_count": 21,
      "outputs": []
    },
    {
      "cell_type": "code",
      "source": [
        "true_labels = test_data.classes\n",
        "predicted_labels = (predictions > 0.5).astype(int)\n",
        "\n",
        "cm = confusion_matrix(true_labels, predicted_labels)\n",
        "\n",
        "print(\"Confusion Matrix:\")\n",
        "print(cm)\n",
        "\n",
        "print(\"Classification Report:\")\n",
        "print(classification_report(true_labels, predicted_labels))"
      ],
      "metadata": {
        "colab": {
          "base_uri": "https://localhost:8080/"
        },
        "id": "hBAtwE-2a01x",
        "outputId": "6ae61629-4fed-4b91-a681-abebf59842d8"
      },
      "execution_count": 22,
      "outputs": [
        {
          "output_type": "stream",
          "name": "stdout",
          "text": [
            "Confusion Matrix:\n",
            "[[ 89 110]\n",
            " [100 100]]\n",
            "Classification Report:\n",
            "              precision    recall  f1-score   support\n",
            "\n",
            "           0       0.47      0.45      0.46       199\n",
            "           1       0.48      0.50      0.49       200\n",
            "\n",
            "    accuracy                           0.47       399\n",
            "   macro avg       0.47      0.47      0.47       399\n",
            "weighted avg       0.47      0.47      0.47       399\n",
            "\n"
          ]
        }
      ]
    },
    {
      "cell_type": "markdown",
      "source": [
        "***pre-trained CNN model***"
      ],
      "metadata": {
        "id": "vtdwlX6EUt5e"
      }
    },
    {
      "cell_type": "code",
      "source": [
        "from tensorflow import keras\n",
        "from keras import Sequential\n",
        "from keras.layers import Dense,Conv2D,MaxPooling2D,Flatten\n",
        "\n",
        "resnet_model = Sequential()\n",
        "pretrained_model = tf.keras.applications.ResNet50(include_top = False,\n",
        "                                                  input_shape = (256,256,3),\n",
        "                                                  pooling = 'max', classes = 2,\n",
        "                                                  weights = 'imagenet')\n",
        "for layer in pretrained_model.layers:\n",
        "  layer.trainable = False\n",
        "\n",
        "resnet_model.add(pretrained_model)\n",
        "resnet_model.add(Flatten())\n",
        "resnet_model.add(Dense(512, activation = 'relu'))\n",
        "resnet_model.add(Dense(1, activation = 'sigmoid'))"
      ],
      "metadata": {
        "colab": {
          "base_uri": "https://localhost:8080/"
        },
        "id": "aTNjydWFVIgT",
        "outputId": "a79db3f6-4b7f-4c27-a0c0-90b603b84041"
      },
      "execution_count": 23,
      "outputs": [
        {
          "output_type": "stream",
          "name": "stdout",
          "text": [
            "Downloading data from https://storage.googleapis.com/tensorflow/keras-applications/resnet/resnet50_weights_tf_dim_ordering_tf_kernels_notop.h5\n",
            "94765736/94765736 [==============================] - 0s 0us/step\n"
          ]
        }
      ]
    },
    {
      "cell_type": "code",
      "source": [
        "resnet_model.summary()"
      ],
      "metadata": {
        "colab": {
          "base_uri": "https://localhost:8080/"
        },
        "id": "IfomYKnp42lf",
        "outputId": "73feda3f-ad33-4c54-d427-c9899bf5f441"
      },
      "execution_count": 24,
      "outputs": [
        {
          "output_type": "stream",
          "name": "stdout",
          "text": [
            "Model: \"sequential_3\"\n",
            "_________________________________________________________________\n",
            " Layer (type)                Output Shape              Param #   \n",
            "=================================================================\n",
            " resnet50 (Functional)       (None, 2048)              23587712  \n",
            "                                                                 \n",
            " flatten_1 (Flatten)         (None, 2048)              0         \n",
            "                                                                 \n",
            " dense_3 (Dense)             (None, 512)               1049088   \n",
            "                                                                 \n",
            " dense_4 (Dense)             (None, 1)                 513       \n",
            "                                                                 \n",
            "=================================================================\n",
            "Total params: 24637313 (93.98 MB)\n",
            "Trainable params: 1049601 (4.00 MB)\n",
            "Non-trainable params: 23587712 (89.98 MB)\n",
            "_________________________________________________________________\n"
          ]
        }
      ]
    },
    {
      "cell_type": "code",
      "source": [
        "from keras.optimizers import Adam\n",
        "resnet_model.compile(optimizer=Adam(learning_rate=0.001),loss='binary_crossentropy',metrics=['accuracy'])"
      ],
      "metadata": {
        "id": "XGg9lbKh5K6e"
      },
      "execution_count": 25,
      "outputs": []
    },
    {
      "cell_type": "code",
      "source": [
        "history = resnet_model.fit(train_data, epochs=3, validation_data=validation_data)"
      ],
      "metadata": {
        "colab": {
          "base_uri": "https://localhost:8080/"
        },
        "id": "pTirTLRM6Mf8",
        "outputId": "caffaa78-21e7-41aa-8460-35cd60c226bb"
      },
      "execution_count": 26,
      "outputs": [
        {
          "output_type": "stream",
          "name": "stdout",
          "text": [
            "Epoch 1/3\n",
            "28/28 [==============================] - 367s 13s/step - loss: 1.7773 - accuracy: 0.6106 - val_loss: 0.5971 - val_accuracy: 0.7149\n",
            "Epoch 2/3\n",
            "28/28 [==============================] - 346s 12s/step - loss: 0.6764 - accuracy: 0.7020 - val_loss: 0.5661 - val_accuracy: 0.7285\n",
            "Epoch 3/3\n",
            "28/28 [==============================] - 350s 12s/step - loss: 0.4950 - accuracy: 0.7686 - val_loss: 0.7542 - val_accuracy: 0.6652\n"
          ]
        }
      ]
    },
    {
      "cell_type": "code",
      "source": [
        "import matplotlib.pyplot as plt\n",
        "\n",
        "plt.plot(history.history['accuracy'],color='red',label='train')\n",
        "plt.plot(history.history['val_accuracy'],color='blue',label='validation')\n",
        "plt.legend()\n",
        "plt.show()"
      ],
      "metadata": {
        "colab": {
          "base_uri": "https://localhost:8080/",
          "height": 430
        },
        "id": "oo0CTMPi-rh6",
        "outputId": "c9d7f573-a49d-4f20-a461-ea2b2020ea71"
      },
      "execution_count": 27,
      "outputs": [
        {
          "output_type": "display_data",
          "data": {
            "text/plain": [
              "<Figure size 640x480 with 1 Axes>"
            ],
            "image/png": "[encoded data removed]"
          },
          "metadata": {}
        }
      ]
    },
    {
      "cell_type": "code",
      "source": [
        "plt.plot(history.history['loss'],color='red',label='train')\n",
        "plt.plot(history.history['val_loss'],color='blue',label='validation')\n",
        "plt.legend()\n",
        "plt.show()"
      ],
      "metadata": {
        "colab": {
          "base_uri": "https://localhost:8080/",
          "height": 430
        },
        "id": "W-xDflGN_V4d",
        "outputId": "c49224ea-006a-4c9d-b921-03ecebba3a59"
      },
      "execution_count": 28,
      "outputs": [
        {
          "output_type": "display_data",
          "data": {
            "text/plain": [
              "<Figure size 640x480 with 1 Axes>"
            ],
            "image/png": "[encoded data removed]"
          },
          "metadata": {}
        }
      ]
    },
    {
      "cell_type": "code",
      "source": [
        "test_datagen = ImageDataGenerator(rescale=1./255)\n",
        "test_data = test_datagen.flow_from_directory(\n",
        "    test_dir,\n",
        "    target_size=(256,256),\n",
        "    batch_size=32,\n",
        "    class_mode='binary'\n",
        ")"
      ],
      "metadata": {
        "colab": {
          "base_uri": "https://localhost:8080/"
        },
        "id": "gcM2xpX6AIxf",
        "outputId": "c9dbde67-47a1-415f-a29f-f89eb5919245"
      },
      "execution_count": 30,
      "outputs": [
        {
          "output_type": "stream",
          "name": "stdout",
          "text": [
            "Found 399 images belonging to 2 classes.\n"
          ]
        }
      ]
    },
    {
      "cell_type": "code",
      "source": [
        "predictions = resnet_model.predict(test_data)\n",
        "print(predictions)"
      ],
      "metadata": {
        "colab": {
          "base_uri": "https://localhost:8080/"
        },
        "id": "tN0oY74uBKHP",
        "outputId": "e63755fd-c895-4042-fa45-03e1f1e39a38"
      },
      "execution_count": 31,
      "outputs": [
        {
          "output_type": "stream",
          "name": "stdout",
          "text": [
            "13/13 [==============================] - 126s 9s/step\n",
            "[[9.93859231e-01]\n",
            " [9.60124969e-01]\n",
            " [7.70140529e-01]\n",
            " [8.65252137e-01]\n",
            " [6.31729066e-01]\n",
            " [1.04112318e-02]\n",
            " [9.82464075e-01]\n",
            " [2.14171503e-02]\n",
            " [3.44973654e-02]\n",
            " [7.56311476e-01]\n",
            " [9.76081491e-01]\n",
            " [4.71586317e-01]\n",
            " [1.34676725e-01]\n",
            " [9.35635567e-01]\n",
            " [9.52716589e-01]\n",
            " [9.61197615e-01]\n",
            " [9.67499375e-01]\n",
            " [1.84642908e-03]\n",
            " [1.44757302e-02]\n",
            " [8.96091402e-01]\n",
            " [9.14002895e-01]\n",
            " [9.68891442e-01]\n",
            " [9.48047936e-01]\n",
            " [9.27331269e-01]\n",
            " [9.75093842e-01]\n",
            " [9.80684996e-01]\n",
            " [8.58446121e-01]\n",
            " [5.07770851e-02]\n",
            " [9.35506880e-01]\n",
            " [8.81348848e-01]\n",
            " [2.89205258e-04]\n",
            " [9.23300624e-01]\n",
            " [9.96183813e-01]\n",
            " [3.87557559e-02]\n",
            " [9.16074872e-01]\n",
            " [8.27316642e-01]\n",
            " [7.79219449e-01]\n",
            " [9.47734535e-01]\n",
            " [9.32368517e-01]\n",
            " [9.21252489e-01]\n",
            " [9.19770241e-01]\n",
            " [9.59840536e-01]\n",
            " [9.68589365e-01]\n",
            " [7.04828999e-04]\n",
            " [3.29324663e-01]\n",
            " [9.56631899e-01]\n",
            " [5.83466530e-01]\n",
            " [9.95170176e-02]\n",
            " [8.76350522e-01]\n",
            " [9.54952121e-01]\n",
            " [9.53664422e-01]\n",
            " [8.46236527e-01]\n",
            " [9.82540965e-01]\n",
            " [9.31440294e-01]\n",
            " [1.80666611e-01]\n",
            " [6.95223808e-01]\n",
            " [9.28526282e-01]\n",
            " [8.86943098e-03]\n",
            " [8.81088316e-01]\n",
            " [2.90720118e-03]\n",
            " [1.26023814e-01]\n",
            " [6.34230137e-01]\n",
            " [9.76078629e-01]\n",
            " [4.21627164e-01]\n",
            " [3.72696757e-01]\n",
            " [6.80071831e-01]\n",
            " [9.07931685e-01]\n",
            " [4.48845280e-03]\n",
            " [9.65609372e-01]\n",
            " [9.59096909e-01]\n",
            " [9.75453675e-01]\n",
            " [6.37233138e-01]\n",
            " [1.35538101e-01]\n",
            " [9.51491952e-01]\n",
            " [6.65322617e-02]\n",
            " [9.34214443e-02]\n",
            " [9.95520532e-01]\n",
            " [9.63696241e-01]\n",
            " [7.40046442e-01]\n",
            " [6.52335823e-01]\n",
            " [9.62187767e-01]\n",
            " [4.44585038e-03]\n",
            " [9.23306108e-01]\n",
            " [9.32187498e-01]\n",
            " [9.29895759e-01]\n",
            " [1.16380662e-01]\n",
            " [9.59649146e-01]\n",
            " [9.73023117e-01]\n",
            " [9.33173478e-01]\n",
            " [9.84256029e-01]\n",
            " [2.90770084e-04]\n",
            " [8.94135416e-01]\n",
            " [3.61077040e-01]\n",
            " [9.24904585e-01]\n",
            " [1.45406261e-01]\n",
            " [9.63241696e-01]\n",
            " [6.73278391e-01]\n",
            " [9.47869122e-01]\n",
            " [9.78389382e-01]\n",
            " [2.04483047e-01]\n",
            " [9.25513268e-01]\n",
            " [8.50467850e-03]\n",
            " [9.28943932e-01]\n",
            " [6.15762353e-01]\n",
            " [8.85340989e-01]\n",
            " [5.02057791e-01]\n",
            " [8.97746086e-01]\n",
            " [1.23956956e-01]\n",
            " [5.72386086e-01]\n",
            " [8.31089199e-01]\n",
            " [9.53271210e-01]\n",
            " [1.45973727e-01]\n",
            " [7.81033635e-01]\n",
            " [1.39682391e-03]\n",
            " [5.50322175e-01]\n",
            " [6.43427849e-01]\n",
            " [1.79560825e-01]\n",
            " [9.38540604e-03]\n",
            " [9.29776728e-01]\n",
            " [1.92536131e-01]\n",
            " [4.14996000e-04]\n",
            " [7.89134383e-01]\n",
            " [9.51987147e-01]\n",
            " [9.34442401e-01]\n",
            " [9.29738939e-01]\n",
            " [5.28861403e-01]\n",
            " [3.02323792e-02]\n",
            " [9.23627675e-01]\n",
            " [8.75788808e-01]\n",
            " [9.94371355e-01]\n",
            " [8.86943098e-03]\n",
            " [9.33642447e-01]\n",
            " [6.33383468e-02]\n",
            " [8.65562081e-01]\n",
            " [9.75628495e-01]\n",
            " [9.86223817e-01]\n",
            " [9.21511471e-01]\n",
            " [7.02863753e-01]\n",
            " [9.22131896e-01]\n",
            " [8.77010107e-01]\n",
            " [6.75968111e-01]\n",
            " [9.26949620e-01]\n",
            " [9.96867537e-01]\n",
            " [2.76857521e-03]\n",
            " [8.61778408e-02]\n",
            " [9.48921680e-01]\n",
            " [1.56315900e-02]\n",
            " [7.70045877e-01]\n",
            " [9.47199941e-01]\n",
            " [1.73168611e-02]\n",
            " [9.42291379e-01]\n",
            " [5.87138176e-01]\n",
            " [9.80327547e-01]\n",
            " [7.90135980e-01]\n",
            " [9.83851790e-01]\n",
            " [9.90919113e-01]\n",
            " [9.31443632e-01]\n",
            " [9.22851384e-01]\n",
            " [8.54927838e-01]\n",
            " [9.53010261e-01]\n",
            " [7.37593928e-03]\n",
            " [1.94905341e-01]\n",
            " [3.07879061e-01]\n",
            " [6.80928570e-05]\n",
            " [9.68224227e-01]\n",
            " [9.63849545e-01]\n",
            " [9.92750049e-01]\n",
            " [3.11521292e-01]\n",
            " [1.25597045e-01]\n",
            " [7.87888467e-01]\n",
            " [8.91100109e-01]\n",
            " [1.51067665e-02]\n",
            " [4.77989270e-05]\n",
            " [9.46046054e-01]\n",
            " [2.15879845e-04]\n",
            " [9.66525853e-01]\n",
            " [9.15607810e-01]\n",
            " [8.78510296e-01]\n",
            " [4.82902080e-01]\n",
            " [3.39619935e-01]\n",
            " [8.28318834e-01]\n",
            " [8.44785869e-01]\n",
            " [8.73776376e-01]\n",
            " [9.84941363e-01]\n",
            " [3.94092023e-01]\n",
            " [9.29723918e-01]\n",
            " [6.01469874e-02]\n",
            " [3.70199144e-01]\n",
            " [9.51931536e-01]\n",
            " [2.99461855e-04]\n",
            " [9.89486456e-01]\n",
            " [9.41715539e-02]\n",
            " [8.72321427e-01]\n",
            " [9.73702133e-01]\n",
            " [9.73806918e-01]\n",
            " [8.74370873e-01]\n",
            " [9.80878711e-01]\n",
            " [4.38317001e-01]\n",
            " [2.67831385e-01]\n",
            " [2.57804722e-01]\n",
            " [8.73098731e-01]\n",
            " [2.27688975e-03]\n",
            " [6.18848130e-02]\n",
            " [1.74096078e-01]\n",
            " [7.04604238e-02]\n",
            " [9.41635787e-01]\n",
            " [9.37585413e-01]\n",
            " [3.47103924e-01]\n",
            " [7.44775832e-01]\n",
            " [9.65467811e-01]\n",
            " [9.37251985e-01]\n",
            " [3.58941346e-01]\n",
            " [4.14474271e-02]\n",
            " [7.73657680e-01]\n",
            " [9.41006839e-01]\n",
            " [9.04347837e-01]\n",
            " [5.42852831e-05]\n",
            " [8.80278461e-03]\n",
            " [9.87819791e-01]\n",
            " [1.81036770e-01]\n",
            " [9.54019547e-01]\n",
            " [9.32975113e-01]\n",
            " [9.20744300e-01]\n",
            " [6.03351695e-03]\n",
            " [8.10048282e-01]\n",
            " [9.22262609e-01]\n",
            " [8.05861592e-01]\n",
            " [1.56573209e-04]\n",
            " [7.58556962e-01]\n",
            " [8.78839970e-01]\n",
            " [1.64663105e-03]\n",
            " [9.66259181e-01]\n",
            " [9.78810132e-01]\n",
            " [1.31161902e-02]\n",
            " [1.50682420e-01]\n",
            " [8.89811933e-01]\n",
            " [9.56400812e-01]\n",
            " [8.32611561e-01]\n",
            " [9.25338245e-04]\n",
            " [9.54453230e-01]\n",
            " [6.75402641e-01]\n",
            " [9.63588357e-01]\n",
            " [9.81696427e-01]\n",
            " [5.30733764e-01]\n",
            " [9.60569739e-01]\n",
            " [8.45809102e-01]\n",
            " [5.00160363e-03]\n",
            " [9.18051958e-01]\n",
            " [1.76028884e-03]\n",
            " [9.87173796e-01]\n",
            " [3.48085444e-03]\n",
            " [2.31841534e-01]\n",
            " [2.76255459e-01]\n",
            " [1.06848069e-02]\n",
            " [9.29627597e-01]\n",
            " [5.58764078e-02]\n",
            " [9.66989458e-01]\n",
            " [9.82132196e-01]\n",
            " [9.66421604e-01]\n",
            " [7.67880559e-01]\n",
            " [1.74392291e-04]\n",
            " [6.60418391e-01]\n",
            " [5.99879622e-01]\n",
            " [9.88392055e-01]\n",
            " [9.19872522e-03]\n",
            " [7.78042257e-01]\n",
            " [8.54854584e-01]\n",
            " [9.59284902e-01]\n",
            " [9.63676751e-01]\n",
            " [6.35486618e-02]\n",
            " [9.72061336e-01]\n",
            " [9.77544665e-01]\n",
            " [7.84328654e-02]\n",
            " [3.84173274e-01]\n",
            " [8.22719276e-01]\n",
            " [9.63999689e-01]\n",
            " [9.85891104e-01]\n",
            " [9.11750078e-01]\n",
            " [5.96424043e-01]\n",
            " [9.66625750e-01]\n",
            " [9.15496528e-01]\n",
            " [9.75233018e-01]\n",
            " [3.95202078e-02]\n",
            " [9.74664927e-01]\n",
            " [4.36766893e-02]\n",
            " [6.41087594e-04]\n",
            " [8.32430720e-01]\n",
            " [9.53108490e-01]\n",
            " [1.01010770e-01]\n",
            " [7.76720226e-01]\n",
            " [9.77528274e-01]\n",
            " [7.32472658e-01]\n",
            " [9.80313518e-04]\n",
            " [3.14328134e-01]\n",
            " [2.41046166e-03]\n",
            " [8.75327945e-01]\n",
            " [9.88999498e-04]\n",
            " [8.92580271e-01]\n",
            " [1.06506457e-03]\n",
            " [9.53706741e-01]\n",
            " [6.72795102e-02]\n",
            " [8.69935691e-01]\n",
            " [9.53101158e-01]\n",
            " [9.35366094e-01]\n",
            " [9.21914756e-01]\n",
            " [9.74483252e-01]\n",
            " [9.69520569e-01]\n",
            " [9.75450456e-01]\n",
            " [9.71036375e-01]\n",
            " [5.56611419e-02]\n",
            " [9.90347207e-01]\n",
            " [8.81855130e-01]\n",
            " [9.44720626e-01]\n",
            " [9.29081380e-01]\n",
            " [5.21958172e-01]\n",
            " [9.08452868e-01]\n",
            " [2.69998521e-01]\n",
            " [7.47303385e-03]\n",
            " [3.86050455e-02]\n",
            " [9.41728532e-01]\n",
            " [7.69781053e-01]\n",
            " [1.54573128e-01]\n",
            " [5.09878271e-04]\n",
            " [9.62839127e-01]\n",
            " [9.82151568e-01]\n",
            " [4.41214023e-03]\n",
            " [1.25832811e-01]\n",
            " [5.96331656e-01]\n",
            " [7.54843205e-02]\n",
            " [9.20195699e-01]\n",
            " [8.31021547e-01]\n",
            " [9.07975733e-01]\n",
            " [3.60862851e-01]\n",
            " [8.86495982e-04]\n",
            " [3.50010693e-01]\n",
            " [8.73016179e-01]\n",
            " [9.84399855e-01]\n",
            " [9.51698303e-01]\n",
            " [6.48140848e-01]\n",
            " [6.79309011e-01]\n",
            " [9.58142579e-01]\n",
            " [3.52656692e-01]\n",
            " [9.20220435e-01]\n",
            " [9.15899694e-01]\n",
            " [9.13399637e-01]\n",
            " [9.28998768e-01]\n",
            " [9.55853462e-01]\n",
            " [7.45411634e-01]\n",
            " [8.71685028e-01]\n",
            " [7.25835145e-01]\n",
            " [2.27565318e-02]\n",
            " [3.32786262e-01]\n",
            " [4.57934476e-03]\n",
            " [9.65442419e-01]\n",
            " [8.90520036e-01]\n",
            " [9.48710859e-01]\n",
            " [7.88294375e-01]\n",
            " [2.56897330e-01]\n",
            " [9.38393354e-01]\n",
            " [9.77870464e-01]\n",
            " [4.34225658e-03]\n",
            " [8.76993775e-01]\n",
            " [9.58129883e-01]\n",
            " [6.46428525e-01]\n",
            " [6.48923278e-01]\n",
            " [8.88341546e-01]\n",
            " [8.97806287e-01]\n",
            " [9.08992767e-01]\n",
            " [9.32708383e-01]\n",
            " [9.27939638e-02]\n",
            " [9.77099061e-01]\n",
            " [1.93589583e-01]\n",
            " [9.37126577e-01]\n",
            " [4.06229377e-01]\n",
            " [1.00734368e-01]\n",
            " [1.70756191e-01]\n",
            " [6.44934596e-04]\n",
            " [9.00894761e-01]\n",
            " [9.79154408e-01]\n",
            " [9.94729936e-01]\n",
            " [1.25681907e-02]\n",
            " [5.29874623e-01]\n",
            " [1.21021055e-01]\n",
            " [9.57763314e-01]\n",
            " [8.35322499e-01]\n",
            " [8.80724072e-01]\n",
            " [8.30185950e-01]\n",
            " [9.15072680e-01]\n",
            " [2.83559244e-02]\n",
            " [1.07752599e-01]\n",
            " [9.89714265e-01]\n",
            " [5.35292268e-01]\n",
            " [3.47269624e-01]\n",
            " [4.71211821e-02]\n",
            " [9.85703290e-01]\n",
            " [9.81827617e-01]\n",
            " [4.67015691e-02]\n",
            " [1.42689771e-03]\n",
            " [9.18675184e-01]]\n"
          ]
        }
      ]
    },
    {
      "cell_type": "code",
      "source": [
        "len(predictions)"
      ],
      "metadata": {
        "colab": {
          "base_uri": "https://localhost:8080/"
        },
        "id": "Ljq_PATgCBVx",
        "outputId": "41b4be3c-5097-484a-d444-f932395259b1"
      },
      "execution_count": 32,
      "outputs": [
        {
          "output_type": "execute_result",
          "data": {
            "text/plain": [
              "399"
            ]
          },
          "metadata": {},
          "execution_count": 32
        }
      ]
    },
    {
      "cell_type": "code",
      "source": [
        "from sklearn.metrics import confusion_matrix, classification_report\n",
        "\n",
        "true_labels = test_data.classes\n",
        "predicted_labels = (predictions > 0.5).astype(int)\n",
        "\n",
        "cm = confusion_matrix(true_labels, predicted_labels)\n",
        "\n",
        "print(\"Confusion Matrix:\")\n",
        "print(cm)\n",
        "\n",
        "print(\"Classification Report:\")\n",
        "print(classification_report(true_labels, predicted_labels))"
      ],
      "metadata": {
        "colab": {
          "base_uri": "https://localhost:8080/"
        },
        "id": "LREacOw8CLFx",
        "outputId": "69d05d1d-2edf-42a4-d17a-2fe91cbad903"
      },
      "execution_count": 33,
      "outputs": [
        {
          "output_type": "stream",
          "name": "stdout",
          "text": [
            "Confusion Matrix:\n",
            "[[ 62 137]\n",
            " [ 71 129]]\n",
            "Classification Report:\n",
            "              precision    recall  f1-score   support\n",
            "\n",
            "           0       0.47      0.31      0.37       199\n",
            "           1       0.48      0.65      0.55       200\n",
            "\n",
            "    accuracy                           0.48       399\n",
            "   macro avg       0.48      0.48      0.46       399\n",
            "weighted avg       0.48      0.48      0.46       399\n",
            "\n"
          ]
        }
      ]
    }
  ]
}
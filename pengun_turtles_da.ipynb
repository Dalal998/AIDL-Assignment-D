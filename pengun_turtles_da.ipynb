{
  "nbformat": 4,
  "nbformat_minor": 0,
  "metadata": {
    "colab": {
      "provenance": []
    },
    "kernelspec": {
      "name": "python3",
      "display_name": "Python 3"
    },
    "language_info": {
      "name": "python"
    }
  },
  "cells": [
    {
      "cell_type": "code",
      "execution_count": 1,
      "metadata": {
        "colab": {
          "base_uri": "https://localhost:8080/"
        },
        "id": "a5s-qdpQdIul",
        "outputId": "13b6df3c-24ab-41ea-b14e-2c9a0841f910"
      },
      "outputs": [
        {
          "output_type": "stream",
          "name": "stdout",
          "text": [
            "Mounted at /content/drive\n"
          ]
        }
      ],
      "source": [
        "from google.colab import drive\n",
        "drive.mount('/content/drive', force_remount=True)"
      ]
    },
    {
      "cell_type": "code",
      "source": [
        "train_dir = '/content/drive/MyDrive/train '\n",
        "test_dir = '/content/drive/MyDrive/test'"
      ],
      "metadata": {
        "id": "xqQJ2NB0d30U"
      },
      "execution_count": 2,
      "outputs": []
    },
    {
      "cell_type": "code",
      "source": [
        "import os\n",
        "print(len(os.listdir('/content/drive/MyDrive/train /penguins')))\n",
        "print(len(os.listdir('/content/drive/MyDrive/train /turtles')))\n",
        "print(len(os.listdir('/content/drive/MyDrive/test/penguins')))\n",
        "print(len(os.listdir('/content/drive/MyDrive/test/turtles')))"
      ],
      "metadata": {
        "colab": {
          "base_uri": "https://localhost:8080/"
        },
        "id": "vg0uccUzeI2n",
        "outputId": "d8245f7c-4aa1-4b10-ca1a-a6f598c011ff"
      },
      "execution_count": 5,
      "outputs": [
        {
          "output_type": "stream",
          "name": "stdout",
          "text": [
            "550\n",
            "557\n",
            "200\n",
            "200\n"
          ]
        }
      ]
    },
    {
      "cell_type": "code",
      "source": [
        "import tensorflow as tf\n",
        "from tensorflow.keras.preprocessing.image import ImageDataGenerator\n",
        "\n",
        "train_datagen = ImageDataGenerator(\n",
        "    rescale=1./255,\n",
        "    validation_split=0.2\n",
        ")\n",
        "train_data = train_datagen.flow_from_directory(\n",
        "    train_dir,\n",
        "    target_size=(256,256),\n",
        "    batch_size=32,\n",
        "    class_mode='binary',\n",
        "    subset='training'\n",
        ")\n",
        "\n",
        "validation_datagen = ImageDataGenerator(\n",
        "    rescale=1./255,\n",
        "    validation_split=0.2\n",
        ")\n",
        "\n",
        "validation_data = validation_datagen.flow_from_directory(\n",
        "    train_dir,\n",
        "    target_size=(256,256),\n",
        "    batch_size=32,\n",
        "    class_mode='binary',\n",
        "    subset='validation'\n",
        ")"
      ],
      "metadata": {
        "colab": {
          "base_uri": "https://localhost:8080/"
        },
        "id": "RECYM-sJfFE5",
        "outputId": "2116ff7c-3723-4e9a-e7b9-8d710fbc36ca"
      },
      "execution_count": 7,
      "outputs": [
        {
          "output_type": "stream",
          "name": "stdout",
          "text": [
            "Found 886 images belonging to 2 classes.\n",
            "Found 221 images belonging to 2 classes.\n"
          ]
        }
      ]
    },
    {
      "cell_type": "code",
      "source": [
        "from tensorflow import keras\n",
        "from keras import Sequential\n",
        "from keras.layers import Dense,Conv2D,MaxPooling2D,Flatten,BatchNormalization,UpSampling2D, Dropout"
      ],
      "metadata": {
        "id": "aDVVYIarhdnK"
      },
      "execution_count": 8,
      "outputs": []
    },
    {
      "cell_type": "code",
      "source": [
        "model = Sequential()\n",
        "model.add(Conv2D(32,kernel_size=(3,3),padding='valid',activation='relu',input_shape=(256,256,3)))\n",
        "model.add(MaxPooling2D(pool_size=(2,2),strides=2,padding='valid'))\n",
        "\n",
        "model.add(Conv2D(64,kernel_size=(3,3),padding='valid',activation='relu'))\n",
        "model.add(MaxPooling2D(pool_size=(2,2),strides=2,padding='valid'))\n",
        "\n",
        "model.add(Conv2D(128,kernel_size=(3,3),padding='valid',activation='relu'))\n",
        "model.add(MaxPooling2D(pool_size=(2,2),strides=2,padding='valid'))\n",
        "\n",
        "model.add(Flatten())\n",
        "\n",
        "model.add(Dense(128,activation='relu'))\n",
        "model.add(Dense(64,activation='relu'))\n",
        "model.add(Dense(1,activation='sigmoid'))"
      ],
      "metadata": {
        "id": "KGw1lAAmiQ93"
      },
      "execution_count": 9,
      "outputs": []
    },
    {
      "cell_type": "code",
      "source": [
        "from keras.optimizers import Adam\n",
        "model.compile(optimizer=Adam(learning_rate=0.001),loss='binary_crossentropy',metrics=['accuracy'])"
      ],
      "metadata": {
        "id": "KaXX4C4BlN_U"
      },
      "execution_count": 10,
      "outputs": []
    },
    {
      "cell_type": "code",
      "source": [
        "history = model.fit(train_data, epochs=30, validation_data=validation_data)"
      ],
      "metadata": {
        "colab": {
          "base_uri": "https://localhost:8080/"
        },
        "id": "fdXKIPjal171",
        "outputId": "daad6029-7379-4f20-cfd5-beab22e8b485"
      },
      "execution_count": 11,
      "outputs": [
        {
          "output_type": "stream",
          "name": "stdout",
          "text": [
            "Epoch 1/30\n",
            "28/28 [==============================] - 473s 17s/step - loss: 0.8912 - accuracy: 0.5451 - val_loss: 0.6391 - val_accuracy: 0.6516\n",
            "Epoch 2/30\n",
            "28/28 [==============================] - 249s 9s/step - loss: 0.5662 - accuracy: 0.7178 - val_loss: 0.5084 - val_accuracy: 0.7557\n",
            "Epoch 3/30\n",
            "28/28 [==============================] - 271s 10s/step - loss: 0.3955 - accuracy: 0.8318 - val_loss: 0.4658 - val_accuracy: 0.7692\n",
            "Epoch 4/30\n",
            "28/28 [==============================] - 253s 9s/step - loss: 0.3014 - accuracy: 0.8826 - val_loss: 0.6208 - val_accuracy: 0.7421\n",
            "Epoch 5/30\n",
            "28/28 [==============================] - 245s 9s/step - loss: 0.2189 - accuracy: 0.9165 - val_loss: 0.4917 - val_accuracy: 0.8281\n",
            "Epoch 6/30\n",
            "28/28 [==============================] - 243s 9s/step - loss: 0.1314 - accuracy: 0.9492 - val_loss: 0.6333 - val_accuracy: 0.8190\n",
            "Epoch 7/30\n",
            "28/28 [==============================] - 256s 9s/step - loss: 0.0860 - accuracy: 0.9718 - val_loss: 0.9390 - val_accuracy: 0.8009\n",
            "Epoch 8/30\n",
            "28/28 [==============================] - 243s 9s/step - loss: 0.0723 - accuracy: 0.9797 - val_loss: 1.0679 - val_accuracy: 0.8145\n",
            "Epoch 9/30\n",
            "28/28 [==============================] - 254s 9s/step - loss: 0.0651 - accuracy: 0.9752 - val_loss: 1.1812 - val_accuracy: 0.8281\n",
            "Epoch 10/30\n",
            "28/28 [==============================] - 274s 10s/step - loss: 0.0928 - accuracy: 0.9673 - val_loss: 0.7860 - val_accuracy: 0.8190\n",
            "Epoch 11/30\n",
            "28/28 [==============================] - 274s 10s/step - loss: 0.0515 - accuracy: 0.9831 - val_loss: 1.0612 - val_accuracy: 0.8281\n",
            "Epoch 12/30\n",
            "28/28 [==============================] - 249s 9s/step - loss: 0.0284 - accuracy: 0.9932 - val_loss: 1.0358 - val_accuracy: 0.7873\n",
            "Epoch 13/30\n",
            "28/28 [==============================] - 249s 9s/step - loss: 0.0160 - accuracy: 0.9932 - val_loss: 1.4619 - val_accuracy: 0.8190\n",
            "Epoch 14/30\n",
            "28/28 [==============================] - 257s 9s/step - loss: 0.0174 - accuracy: 0.9966 - val_loss: 1.2831 - val_accuracy: 0.8235\n",
            "Epoch 15/30\n",
            "28/28 [==============================] - 272s 10s/step - loss: 0.0050 - accuracy: 1.0000 - val_loss: 1.6091 - val_accuracy: 0.8235\n",
            "Epoch 16/30\n",
            "28/28 [==============================] - 251s 9s/step - loss: 0.0019 - accuracy: 1.0000 - val_loss: 1.6165 - val_accuracy: 0.8281\n",
            "Epoch 17/30\n",
            "28/28 [==============================] - 249s 9s/step - loss: 8.1950e-04 - accuracy: 1.0000 - val_loss: 1.6614 - val_accuracy: 0.8281\n",
            "Epoch 18/30\n",
            "28/28 [==============================] - 244s 9s/step - loss: 3.5891e-04 - accuracy: 1.0000 - val_loss: 1.7414 - val_accuracy: 0.8281\n",
            "Epoch 19/30\n",
            "28/28 [==============================] - 258s 9s/step - loss: 2.2583e-04 - accuracy: 1.0000 - val_loss: 1.7805 - val_accuracy: 0.8326\n",
            "Epoch 20/30\n",
            "28/28 [==============================] - 243s 9s/step - loss: 1.7768e-04 - accuracy: 1.0000 - val_loss: 1.8321 - val_accuracy: 0.8326\n",
            "Epoch 21/30\n",
            "28/28 [==============================] - 282s 10s/step - loss: 1.4192e-04 - accuracy: 1.0000 - val_loss: 1.8642 - val_accuracy: 0.8326\n",
            "Epoch 22/30\n",
            "28/28 [==============================] - 248s 9s/step - loss: 1.1923e-04 - accuracy: 1.0000 - val_loss: 1.9025 - val_accuracy: 0.8326\n",
            "Epoch 23/30\n",
            "28/28 [==============================] - 253s 9s/step - loss: 9.9859e-05 - accuracy: 1.0000 - val_loss: 1.9240 - val_accuracy: 0.8326\n",
            "Epoch 24/30\n",
            "28/28 [==============================] - 245s 9s/step - loss: 8.6397e-05 - accuracy: 1.0000 - val_loss: 1.9486 - val_accuracy: 0.8326\n",
            "Epoch 25/30\n",
            "28/28 [==============================] - 248s 9s/step - loss: 7.4675e-05 - accuracy: 1.0000 - val_loss: 1.9749 - val_accuracy: 0.8326\n",
            "Epoch 26/30\n",
            "28/28 [==============================] - 254s 9s/step - loss: 6.8339e-05 - accuracy: 1.0000 - val_loss: 1.9879 - val_accuracy: 0.8326\n",
            "Epoch 27/30\n",
            "28/28 [==============================] - 245s 9s/step - loss: 5.8556e-05 - accuracy: 1.0000 - val_loss: 2.0049 - val_accuracy: 0.8326\n",
            "Epoch 28/30\n",
            "28/28 [==============================] - 251s 9s/step - loss: 5.2471e-05 - accuracy: 1.0000 - val_loss: 2.0271 - val_accuracy: 0.8326\n",
            "Epoch 29/30\n",
            "28/28 [==============================] - 249s 9s/step - loss: 4.7508e-05 - accuracy: 1.0000 - val_loss: 2.0403 - val_accuracy: 0.8326\n",
            "Epoch 30/30\n",
            "28/28 [==============================] - 245s 9s/step - loss: 4.2082e-05 - accuracy: 1.0000 - val_loss: 2.0660 - val_accuracy: 0.8326\n"
          ]
        }
      ]
    },
    {
      "cell_type": "code",
      "source": [
        "import matplotlib.pyplot as plt\n",
        "\n",
        "plt.plot(history.history['accuracy'],color='red',label='train')\n",
        "plt.plot(history.history['val_accuracy'],color='blue',label='validation')\n",
        "plt.legend()\n",
        "plt.show()"
      ],
      "metadata": {
        "colab": {
          "base_uri": "https://localhost:8080/",
          "height": 430
        },
        "id": "oZqWBfwhE8Oj",
        "outputId": "43cfc09d-b24b-4948-ee57-96a2a560aa72"
      },
      "execution_count": 12,
      "outputs": [
        {
          "output_type": "display_data",
          "data": {
            "text/plain": [
              "<Figure size 640x480 with 1 Axes>"
            ],
            "image/png": "[encoded data removed]"
          },
          "metadata": {}
        }
      ]
    },
    {
      "cell_type": "code",
      "source": [
        "plt.plot(history.history['loss'],color='red',label='train')\n",
        "plt.plot(history.history['val_loss'],color='blue',label='validation')\n",
        "plt.legend()\n",
        "plt.show()"
      ],
      "metadata": {
        "colab": {
          "base_uri": "https://localhost:8080/",
          "height": 430
        },
        "id": "LMXDauaoGynR",
        "outputId": "f662f11e-f7ce-4b8d-fcc3-313c192f6169"
      },
      "execution_count": 13,
      "outputs": [
        {
          "output_type": "display_data",
          "data": {
            "text/plain": [
              "<Figure size 640x480 with 1 Axes>"
            ],
            "image/png": "[encoded data removed]"
          },
          "metadata": {}
        }
      ]
    },
    {
      "cell_type": "code",
      "source": [
        "test_datagen = ImageDataGenerator(rescale=1./255)\n",
        "test_data = test_datagen.flow_from_directory(\n",
        "    test_dir,\n",
        "    target_size=(256,256),\n",
        "    batch_size=32,\n",
        "    class_mode='binary'\n",
        "\n",
        ")"
      ],
      "metadata": {
        "colab": {
          "base_uri": "https://localhost:8080/"
        },
        "id": "UcZ1fjULHW3V",
        "outputId": "a54cb11a-515e-4fd1-e6a2-5d7d9d305c07"
      },
      "execution_count": 14,
      "outputs": [
        {
          "output_type": "stream",
          "name": "stdout",
          "text": [
            "Found 399 images belonging to 2 classes.\n"
          ]
        }
      ]
    },
    {
      "cell_type": "code",
      "source": [
        "predictions = model.predict(test_data)\n",
        "print(predictions)"
      ],
      "metadata": {
        "colab": {
          "base_uri": "https://localhost:8080/"
        },
        "id": "as4yfA45IFbb",
        "outputId": "a26397ca-a74c-4289-bf44-0d0fa2c25843"
      },
      "execution_count": 15,
      "outputs": [
        {
          "output_type": "stream",
          "name": "stdout",
          "text": [
            "13/13 [==============================] - 140s 11s/step\n",
            "[[4.71790533e-15]\n",
            " [9.99868035e-01]\n",
            " [2.20519936e-10]\n",
            " [3.40724865e-10]\n",
            " [2.29224878e-36]\n",
            " [2.97902077e-02]\n",
            " [9.99752700e-01]\n",
            " [8.15509167e-03]\n",
            " [1.00000000e+00]\n",
            " [9.99955654e-01]\n",
            " [1.57171787e-08]\n",
            " [5.37605911e-06]\n",
            " [9.95591760e-01]\n",
            " [4.62792229e-07]\n",
            " [3.24104447e-04]\n",
            " [2.00665244e-12]\n",
            " [9.99963462e-01]\n",
            " [3.88925306e-19]\n",
            " [2.06148215e-02]\n",
            " [9.99999285e-01]\n",
            " [1.19055672e-08]\n",
            " [4.25033519e-09]\n",
            " [9.99972403e-01]\n",
            " [1.29923322e-07]\n",
            " [5.61276019e-01]\n",
            " [4.17105184e-04]\n",
            " [9.54827964e-01]\n",
            " [9.51238871e-13]\n",
            " [2.06102790e-24]\n",
            " [9.75204170e-01]\n",
            " [2.01804427e-31]\n",
            " [2.10082927e-03]\n",
            " [2.78240941e-06]\n",
            " [1.00000000e+00]\n",
            " [6.48377303e-19]\n",
            " [9.02859476e-09]\n",
            " [9.99455094e-01]\n",
            " [1.00000000e+00]\n",
            " [9.28441768e-09]\n",
            " [9.99999940e-01]\n",
            " [2.25038210e-15]\n",
            " [4.12189217e-13]\n",
            " [2.14347173e-03]\n",
            " [9.99009669e-01]\n",
            " [9.99999464e-01]\n",
            " [1.07064967e-04]\n",
            " [5.28065962e-15]\n",
            " [2.03591152e-18]\n",
            " [1.00000000e+00]\n",
            " [9.99971807e-01]\n",
            " [9.99288738e-01]\n",
            " [8.81583661e-19]\n",
            " [4.30050641e-05]\n",
            " [1.00000000e+00]\n",
            " [9.96419489e-01]\n",
            " [9.99999821e-01]\n",
            " [1.00000000e+00]\n",
            " [9.99982774e-01]\n",
            " [6.70999110e-01]\n",
            " [6.10124232e-07]\n",
            " [9.99993563e-01]\n",
            " [1.00000000e+00]\n",
            " [1.00000000e+00]\n",
            " [3.25232676e-08]\n",
            " [3.83699880e-26]\n",
            " [9.99998450e-01]\n",
            " [3.12418878e-01]\n",
            " [9.99988556e-01]\n",
            " [9.71675583e-18]\n",
            " [6.56230278e-12]\n",
            " [9.99999642e-01]\n",
            " [1.00000000e+00]\n",
            " [1.00000000e+00]\n",
            " [9.99939561e-01]\n",
            " [9.91424471e-02]\n",
            " [9.99997854e-01]\n",
            " [1.00000000e+00]\n",
            " [1.00000000e+00]\n",
            " [1.00000000e+00]\n",
            " [3.93530044e-08]\n",
            " [9.99985874e-01]\n",
            " [5.91862701e-08]\n",
            " [9.91424471e-02]\n",
            " [2.93822475e-13]\n",
            " [9.99997854e-01]\n",
            " [1.00000000e+00]\n",
            " [4.03291338e-08]\n",
            " [9.95185316e-01]\n",
            " [1.75563693e-02]\n",
            " [1.76874280e-04]\n",
            " [1.00000000e+00]\n",
            " [9.99998987e-01]\n",
            " [3.61110362e-27]\n",
            " [3.98359907e-06]\n",
            " [1.00000000e+00]\n",
            " [1.00000000e+00]\n",
            " [1.00000000e+00]\n",
            " [3.88724608e-10]\n",
            " [1.00000000e+00]\n",
            " [5.66621294e-13]\n",
            " [4.72592004e-02]\n",
            " [1.00000000e+00]\n",
            " [2.10503714e-19]\n",
            " [1.00000000e+00]\n",
            " [1.00000000e+00]\n",
            " [4.53089748e-14]\n",
            " [8.01340759e-01]\n",
            " [3.65009482e-13]\n",
            " [9.99591112e-01]\n",
            " [5.43429911e-01]\n",
            " [9.99999583e-01]\n",
            " [9.99908507e-01]\n",
            " [1.00000000e+00]\n",
            " [9.99999821e-01]\n",
            " [8.50717607e-17]\n",
            " [9.32821931e-05]\n",
            " [9.99999881e-01]\n",
            " [2.23168302e-02]\n",
            " [1.00000000e+00]\n",
            " [9.99999404e-01]\n",
            " [9.99992132e-01]\n",
            " [2.64581359e-07]\n",
            " [9.46836462e-06]\n",
            " [9.99683201e-01]\n",
            " [9.98277545e-01]\n",
            " [9.99999881e-01]\n",
            " [2.08306254e-11]\n",
            " [1.94221883e-09]\n",
            " [9.99999762e-01]\n",
            " [9.78360934e-11]\n",
            " [5.35241827e-13]\n",
            " [1.00000000e+00]\n",
            " [4.44459122e-11]\n",
            " [4.48779279e-13]\n",
            " [9.99998808e-01]\n",
            " [1.88811331e-15]\n",
            " [1.00000000e+00]\n",
            " [9.79814361e-36]\n",
            " [9.86716926e-01]\n",
            " [9.99807537e-01]\n",
            " [2.14725967e-19]\n",
            " [9.99999821e-01]\n",
            " [3.11180812e-12]\n",
            " [1.44113766e-11]\n",
            " [9.99903917e-01]\n",
            " [6.44997805e-11]\n",
            " [9.99992967e-01]\n",
            " [3.65019828e-01]\n",
            " [6.83584367e-05]\n",
            " [9.99424577e-01]\n",
            " [9.99999225e-01]\n",
            " [2.77458993e-17]\n",
            " [1.24753457e-21]\n",
            " [5.83043573e-07]\n",
            " [5.44891554e-09]\n",
            " [1.11028017e-03]\n",
            " [9.99926627e-01]\n",
            " [1.00000000e+00]\n",
            " [9.99999940e-01]\n",
            " [1.00000000e+00]\n",
            " [1.57421706e-23]\n",
            " [3.48173348e-18]\n",
            " [5.86567204e-08]\n",
            " [2.52751191e-03]\n",
            " [1.00000000e+00]\n",
            " [9.99999404e-01]\n",
            " [1.00000000e+00]\n",
            " [1.02470340e-05]\n",
            " [2.58231030e-23]\n",
            " [9.96707559e-01]\n",
            " [9.99034643e-01]\n",
            " [9.99998510e-01]\n",
            " [2.77565332e-10]\n",
            " [9.98757422e-01]\n",
            " [4.37072730e-12]\n",
            " [3.36503720e-13]\n",
            " [9.99999046e-01]\n",
            " [1.00000000e+00]\n",
            " [9.39860821e-01]\n",
            " [9.90567505e-01]\n",
            " [9.99989808e-01]\n",
            " [2.82609358e-06]\n",
            " [4.45959429e-08]\n",
            " [1.00000000e+00]\n",
            " [3.55844989e-08]\n",
            " [9.99977827e-01]\n",
            " [9.97680724e-01]\n",
            " [8.86193633e-01]\n",
            " [1.00000000e+00]\n",
            " [9.99970734e-01]\n",
            " [1.00000000e+00]\n",
            " [8.59494520e-08]\n",
            " [3.65241848e-18]\n",
            " [4.77302670e-01]\n",
            " [1.00000000e+00]\n",
            " [8.37954599e-03]\n",
            " [1.97856190e-13]\n",
            " [9.89865422e-01]\n",
            " [9.60526168e-01]\n",
            " [9.73038983e-10]\n",
            " [3.74693920e-09]\n",
            " [9.99997258e-01]\n",
            " [7.89913024e-09]\n",
            " [1.00000000e+00]\n",
            " [9.99999225e-01]\n",
            " [9.99996245e-01]\n",
            " [9.99999404e-01]\n",
            " [6.43423200e-01]\n",
            " [1.00000000e+00]\n",
            " [2.80573759e-10]\n",
            " [1.00000000e+00]\n",
            " [8.37284327e-01]\n",
            " [1.00000000e+00]\n",
            " [3.28646910e-26]\n",
            " [8.80705714e-01]\n",
            " [6.54423058e-01]\n",
            " [9.99995410e-01]\n",
            " [5.82663059e-01]\n",
            " [9.99996960e-01]\n",
            " [9.99999940e-01]\n",
            " [9.99926627e-01]\n",
            " [2.64015867e-14]\n",
            " [9.99999642e-01]\n",
            " [1.10693513e-07]\n",
            " [9.99993920e-01]\n",
            " [9.99996245e-01]\n",
            " [9.65045869e-01]\n",
            " [2.93383026e-12]\n",
            " [7.05690592e-14]\n",
            " [1.05654219e-09]\n",
            " [9.99979556e-01]\n",
            " [1.17025767e-09]\n",
            " [9.99221087e-01]\n",
            " [9.99996662e-01]\n",
            " [9.99998927e-01]\n",
            " [1.04941165e-14]\n",
            " [1.98168054e-05]\n",
            " [9.99947071e-01]\n",
            " [7.92170539e-02]\n",
            " [1.00000000e+00]\n",
            " [7.83072028e-06]\n",
            " [7.89202869e-01]\n",
            " [9.71384566e-07]\n",
            " [2.69024879e-01]\n",
            " [9.99029458e-01]\n",
            " [9.99984503e-01]\n",
            " [9.99999702e-01]\n",
            " [1.15449935e-12]\n",
            " [6.54540956e-04]\n",
            " [1.55078287e-28]\n",
            " [4.64376671e-12]\n",
            " [1.00000000e+00]\n",
            " [1.61703414e-13]\n",
            " [9.99992371e-01]\n",
            " [4.26638377e-04]\n",
            " [9.99996543e-01]\n",
            " [9.99997973e-01]\n",
            " [9.99962747e-01]\n",
            " [9.85560417e-01]\n",
            " [7.80976304e-14]\n",
            " [1.58060197e-04]\n",
            " [2.10796230e-07]\n",
            " [1.00000000e+00]\n",
            " [3.16797411e-07]\n",
            " [7.99652289e-10]\n",
            " [1.16669418e-16]\n",
            " [1.00000000e+00]\n",
            " [2.61041569e-03]\n",
            " [9.99999881e-01]\n",
            " [9.99999642e-01]\n",
            " [2.17702109e-05]\n",
            " [2.22070077e-19]\n",
            " [6.73342659e-10]\n",
            " [4.46409398e-09]\n",
            " [9.90950167e-01]\n",
            " [6.18386328e-01]\n",
            " [6.53379023e-01]\n",
            " [9.99999523e-01]\n",
            " [4.46777041e-18]\n",
            " [9.99998510e-01]\n",
            " [9.99964833e-01]\n",
            " [4.60850721e-16]\n",
            " [1.18820981e-10]\n",
            " [9.99904394e-01]\n",
            " [9.99876380e-01]\n",
            " [9.96268272e-01]\n",
            " [3.50381738e-11]\n",
            " [1.86356001e-25]\n",
            " [9.99997735e-01]\n",
            " [9.92447138e-01]\n",
            " [3.95256979e-03]\n",
            " [5.08035497e-12]\n",
            " [2.25001102e-13]\n",
            " [2.77925825e-08]\n",
            " [5.99164423e-07]\n",
            " [1.10557414e-11]\n",
            " [1.50728336e-11]\n",
            " [9.88988996e-01]\n",
            " [1.00000000e+00]\n",
            " [7.82282477e-21]\n",
            " [1.00000000e+00]\n",
            " [0.00000000e+00]\n",
            " [5.65158018e-07]\n",
            " [9.99960363e-01]\n",
            " [9.95179355e-01]\n",
            " [9.99210298e-01]\n",
            " [4.48634475e-01]\n",
            " [9.99991000e-01]\n",
            " [9.99943435e-01]\n",
            " [1.00000000e+00]\n",
            " [3.10486161e-22]\n",
            " [9.99572337e-01]\n",
            " [1.15431284e-11]\n",
            " [1.00000000e+00]\n",
            " [3.55791390e-01]\n",
            " [1.00000000e+00]\n",
            " [4.37459769e-03]\n",
            " [8.97413342e-17]\n",
            " [1.00000000e+00]\n",
            " [2.16582237e-08]\n",
            " [0.00000000e+00]\n",
            " [1.00000000e+00]\n",
            " [9.89228785e-01]\n",
            " [1.00000000e+00]\n",
            " [9.99980092e-01]\n",
            " [3.03138671e-15]\n",
            " [9.99329925e-01]\n",
            " [9.99817193e-01]\n",
            " [2.61559063e-09]\n",
            " [9.77154791e-01]\n",
            " [9.98302877e-01]\n",
            " [3.28485071e-27]\n",
            " [9.75525498e-01]\n",
            " [5.53204096e-21]\n",
            " [9.98453081e-01]\n",
            " [1.28193756e-12]\n",
            " [9.99823987e-01]\n",
            " [9.99672949e-01]\n",
            " [9.99998808e-01]\n",
            " [1.00000000e+00]\n",
            " [9.99999881e-01]\n",
            " [5.99910922e-22]\n",
            " [1.00000000e+00]\n",
            " [9.99973178e-01]\n",
            " [1.29964159e-04]\n",
            " [1.00000000e+00]\n",
            " [5.39258256e-11]\n",
            " [9.53037292e-03]\n",
            " [9.96552050e-01]\n",
            " [1.54189172e-03]\n",
            " [6.05308514e-06]\n",
            " [1.00000000e+00]\n",
            " [8.18368619e-07]\n",
            " [1.00000000e+00]\n",
            " [5.37363768e-01]\n",
            " [1.01918718e-02]\n",
            " [1.00000000e+00]\n",
            " [6.46988777e-19]\n",
            " [9.38589482e-23]\n",
            " [1.00000000e+00]\n",
            " [1.00000000e+00]\n",
            " [1.18969800e-03]\n",
            " [9.99640405e-01]\n",
            " [5.10037670e-15]\n",
            " [1.00000000e+00]\n",
            " [1.00000000e+00]\n",
            " [1.00000000e+00]\n",
            " [9.99999464e-01]\n",
            " [2.47478602e-06]\n",
            " [9.99995589e-01]\n",
            " [3.64272640e-11]\n",
            " [2.40111440e-05]\n",
            " [7.66705811e-01]\n",
            " [5.53317741e-02]\n",
            " [8.34577203e-01]\n",
            " [2.07197245e-10]\n",
            " [2.74359530e-16]\n",
            " [9.99971628e-01]\n",
            " [1.00000000e+00]\n",
            " [1.80182804e-03]\n",
            " [5.26621601e-15]\n",
            " [4.00602950e-18]\n",
            " [9.99843836e-01]\n",
            " [1.00000000e+00]\n",
            " [1.00000000e+00]\n",
            " [1.23394926e-16]\n",
            " [1.63815047e-16]\n",
            " [7.02977010e-10]\n",
            " [9.31053281e-01]\n",
            " [2.58301754e-17]\n",
            " [1.00000000e+00]\n",
            " [3.76077702e-25]\n",
            " [7.84412886e-14]\n",
            " [9.99605417e-01]\n",
            " [1.12556415e-02]\n",
            " [1.21718070e-22]\n",
            " [4.63040543e-11]\n",
            " [9.99957263e-01]\n",
            " [5.41807897e-03]]\n"
          ]
        }
      ]
    },
    {
      "cell_type": "code",
      "source": [
        "len(predictions)"
      ],
      "metadata": {
        "colab": {
          "base_uri": "https://localhost:8080/"
        },
        "id": "367b9eJoJDwU",
        "outputId": "a2cd5dbd-12b9-492a-d1ce-978c4a267545"
      },
      "execution_count": 16,
      "outputs": [
        {
          "output_type": "execute_result",
          "data": {
            "text/plain": [
              "399"
            ]
          },
          "metadata": {},
          "execution_count": 16
        }
      ]
    },
    {
      "cell_type": "code",
      "source": [
        "from sklearn.metrics import confusion_matrix, classification_report"
      ],
      "metadata": {
        "id": "628eFv2IJJrE"
      },
      "execution_count": 18,
      "outputs": []
    },
    {
      "cell_type": "code",
      "source": [
        "true_labels = test_data.classes\n",
        "predicted_labels = (predictions > 0.5).astype(int)\n",
        "\n",
        "cm = confusion_matrix(true_labels, predicted_labels)\n",
        "\n",
        "print(\"Confusion Matrix:\")\n",
        "print(cm)\n",
        "\n",
        "print(\"classification Report:\")\n",
        "print(classification_report(true_labels, predicted_labels))"
      ],
      "metadata": {
        "colab": {
          "base_uri": "https://localhost:8080/"
        },
        "id": "P8K67DiDJlI3",
        "outputId": "b1051637-a8aa-448a-bf8e-0a7043a858b4"
      },
      "execution_count": 19,
      "outputs": [
        {
          "output_type": "stream",
          "name": "stdout",
          "text": [
            "Confusion Matrix:\n",
            "[[ 96 103]\n",
            " [ 93 107]]\n",
            "classification Report:\n",
            "              precision    recall  f1-score   support\n",
            "\n",
            "           0       0.51      0.48      0.49       199\n",
            "           1       0.51      0.54      0.52       200\n",
            "\n",
            "    accuracy                           0.51       399\n",
            "   macro avg       0.51      0.51      0.51       399\n",
            "weighted avg       0.51      0.51      0.51       399\n",
            "\n"
          ]
        }
      ]
    }
  ]
}